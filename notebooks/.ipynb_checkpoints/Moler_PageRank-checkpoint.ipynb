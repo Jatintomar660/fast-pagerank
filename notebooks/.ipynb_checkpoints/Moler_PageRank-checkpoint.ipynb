{
 "cells": [
  {
   "cell_type": "markdown",
   "metadata": {},
   "source": [
    "# Fast Personalized Pagerank Implementation (Moler PageRank)\n",
    "I needed a fast PageRank for Wikisim project, it has to be fast enough that can run in real time on relatively small graphs. I started from optimizing the networkx, however, I found a very nice algorithm by **Cleve Mole** which takes the full advantage of sparse matrix operations. \n",
    "I implemented two versions of the algorithm in Python, both inspired  by the sparse fast solutions given in **Cleve Moler**'s book, [*Experiments with MATLAB*](http://www.mathworks.com/moler/index_ncm.html). The power method is much faster with enough precision for our task. Our benchmarsk shows that this implementation is **faster than networkx** implementation magnititude of times\n",
    "\n",
    "## Personalized Pagerank\n",
    "I modified the algorithm a little bit to be able to calculate **personalized Pagerank** as well. \n",
    "\n",
    "## Input Format\n",
    "The input is a 2d array, each row of the array is an edge of the graph $[[a,b], [c,d]]$, $a$ and $b$ are the node numbers. The **personalization vector** is probability distribution over the nodes, a.k.a **teleporting vector**.\n",
    "## Comparison with Networkx\n",
    "Both of the implementation (Exact Solution and PowerMethod) are much faster than their correspondent method in NetworkX\n"
   ]
  },
  {
   "cell_type": "code",
   "execution_count": 1,
   "metadata": {},
   "outputs": [],
   "source": [
    "\"\"\"Two \"fast\" implementations of PageRank.\n",
    "\n",
    "Pythom implementations of Matlab original in Cleve Moler, Experiments with MATLAB.\n",
    "\"\"\"\n",
    "# uncomment\n",
    "from __future__ import division\n",
    "\n",
    "import scipy as sp\n",
    "import scipy.sparse as sprs\n",
    "import scipy.spatial\n",
    "import scipy.sparse.linalg \n",
    "\n",
    "\n",
    "__author__ = \"Armin Sajadi\"\n",
    "__copyright__ = \"Copyright 215, The Wikisim Project\"\n",
    "__credits__ = [\"Armin Sajadi\"]\n",
    "__license__ = \"GPL\"\n",
    "__version__ = \"1.0.1\"\n",
    "__maintainer__ = \"Armin Sajadi\"\n",
    "__email__ = \"sajadi@cs.dal.ca\"\n",
    "__status__ = \"Development\"\n",
    "\n",
    "\n",
    "def create_csr(Z):\n",
    "    \"\"\" Creates a csr presentation from 2darray presentation\n",
    "    Args:\n",
    "        Z: input graph in the form of a 2d array, such as sp.array([[2,0], [1,2], [2,1]])\n",
    "    Returns:\n",
    "        a csr representation\n",
    "    \n",
    "    \"\"\"   \n",
    "    rows = Z[:,0];\n",
    "    cols = Z[:,1];\n",
    "    n = max(max(rows), max(cols))+1;\n",
    "    G=sprs.csr_matrix((sp.ones(rows.shape),(rows,cols)), shape=(n,n));\n",
    "    return G\n",
    "\n",
    "def moler_pagerank_sparse(G, p=0.85, personalize=None, reverse=False):\n",
    "    \"\"\" Calculates pagerank given a csr graph\n",
    "    \n",
    "    Args:\n",
    "        G: a csr graph.\n",
    "        p: damping factor\n",
    "        personlize: if not None, should be an array with the size of the nodes\n",
    "                    containing probability distributions. It will be normalized automatically\n",
    "        reverse: If true, returns the reversed-pagerank \n",
    "        \n",
    "    Returns:\n",
    "        Pagerank Scores for the nodes\n",
    "     \n",
    "    \"\"\"\n",
    "    # In Moler's algorithm, $G_{ij}$ represents the existences of an edge\n",
    "    # from node $j$ to $i$, while we have assumed the opposite!\n",
    "    if not reverse: \n",
    "        G=G.T;\n",
    "\n",
    "    n,n=G.shape\n",
    "    c=sp.asarray(G.sum(axis=0)).reshape(-1)\n",
    "    r=sp.asarray(G.sum(axis=1)).reshape(-1)\n",
    "\n",
    "    k=c.nonzero()[0]\n",
    "\n",
    "    D=sprs.csr_matrix((1/c[k],(k,k)),shape=(n,n))\n",
    "\n",
    "    if personalize is None:\n",
    "        personalize=sp.ones(n) \n",
    "    personalize=personalize.reshape(n,1)\n",
    "    e=(personalize/personalize.sum())*n \n",
    "\n",
    "    I=sprs.eye(n)\n",
    "    x = sprs.linalg.spsolve((I - p*G.dot(D)), e);\n",
    "\n",
    "    x=x/x.sum()\n",
    "    return x\n",
    "def moler_pagerank_sparse_power(G, p=0.85, max_iter = 100,  tol=1e-06,personalize=None, reverse=False):\n",
    "    \"\"\" Calculates pagerank given a csr graph\n",
    "    \n",
    "    Args:\n",
    "        G: a csr graph.\n",
    "        p: damping factor\n",
    "        max_iter: maximum number of iterations\n",
    "        personlize: if not None, should be an array with the size of the nodes\n",
    "                    containing probability distributions. It will be normalized automatically\n",
    "        reverse: If true, returns the reversed-pagerank \n",
    "        \n",
    "    Returns:\n",
    "        Pagerank Scores for the nodes\n",
    "     \n",
    "    \"\"\"\n",
    "    # In Moler's algorithm, $G_{ij}$ represents the existences of an edge\n",
    "    # from node $j$ to $i$, while we have assumed the opposite!\n",
    "    if not reverse: \n",
    "        G=G.T;\n",
    "\n",
    "    n,n=G.shape\n",
    "    c=sp.asarray(G.sum(axis=0)).reshape(-1)\n",
    "    r=sp.asarray(G.sum(axis=1)).reshape(-1)\n",
    "\n",
    "    k=c.nonzero()[0]\n",
    "\n",
    "    D=sprs.csr_matrix((1/c[k],(k,k)),shape=(n,n))\n",
    "\n",
    "    if personalize is None:\n",
    "        personalize=sp.ones(n) \n",
    "    personalize=personalize.reshape(n,1)\n",
    "    e=(personalize/personalize.sum())*n \n",
    "    \n",
    "    \n",
    "    z = (((1-p)*(c!=0) + (c==0))/n)[sp.newaxis,:]\n",
    "    G = p*G.dot(D)\n",
    "    \n",
    "    x = e/n \n",
    "    oldx = sp.zeros((n,1));\n",
    "    \n",
    "    iteration = 0\n",
    "    \n",
    "    while sp.linalg.norm(x-oldx) > tol:\n",
    "        oldx = x\n",
    "        x = G.dot(x) + e.dot(z.dot(x))\n",
    "        iteration += 1\n",
    "        if iteration >= max_iter:\n",
    "            break;\n",
    "    x = x/sum(x)\n",
    "    \n",
    "    return x.reshape(-1)"
   ]
  },
  {
   "cell_type": "markdown",
   "metadata": {},
   "source": [
    "# Testing the algorithm"
   ]
  },
  {
   "cell_type": "code",
   "execution_count": 2,
   "metadata": {},
   "outputs": [
    {
     "name": "stdout",
     "output_type": "stream",
     "text": [
      "Passed\n"
     ]
    }
   ],
   "source": [
    "import networkx as nx\n",
    "import random\n",
    "import timeit\n",
    "import numpy as np\n",
    "min_size=100\n",
    "max_size=300\n",
    "m=10\n",
    "\n",
    "passed=True\n",
    "for i in range(m):\n",
    "    G_size = random.randint(min_size,max_size)\n",
    "    p=random.uniform(0.1, 0.5)\n",
    "    G=nx.fast_gnp_random_graph(G_size, p, seed=None, directed=True)\n",
    "    A=nx.to_scipy_sparse_matrix(G)\n",
    "    \n",
    "    #netx_pagerank[i] = timeit.timeit(lambda: nx.pagerank(G, alpha=0.85, tol=1e-03), number=n)/n\n",
    "    e=np.random.random(G_size)\n",
    "    ex=dict(enumerate(e.reshape(-1)))\n",
    "    \n",
    "    Xnx  = nx.pagerank_numpy(G, alpha=0.85,personalization=ex) \n",
    "    Xnx =  np.array([v for k,v in Xnx.items() ])\n",
    "    Ynx  = nx.pagerank_scipy(G, alpha=0.85, tol=1e-06, personalization=ex)\n",
    "    Ynx =  np.array([v for k,v in Ynx.items() ])\n",
    "    \n",
    "    Xml =  moler_pagerank_sparse(A, p=0.85, personalize=e)\n",
    "    Yml =  moler_pagerank_sparse_power(A, p=0.85, tol=1e-06, personalize=e)\n",
    "    \n",
    "    #print all(X==Y)    \n",
    "    good_direct = all(np.isclose(Xnx, Xml, rtol=1e-5, atol=0, equal_nan=False))    \n",
    "    good_power  = all(np.isclose(Xnx, Yml, rtol=1e-5, atol=0, equal_nan=False))    \n",
    "    if not good_direct or not good_power :\n",
    "        passed=False\n",
    "        print (\"Failed\")\n",
    "        break\n",
    "if passed:\n",
    "    print (\"Passed\")\n"
   ]
  },
  {
   "cell_type": "markdown",
   "metadata": {},
   "source": [
    "# Benchmarking"
   ]
  },
  {
   "cell_type": "code",
   "execution_count": 5,
   "metadata": {},
   "outputs": [
    {
     "name": "stdout",
     "output_type": "stream",
     "text": [
      "Done\n"
     ]
    }
   ],
   "source": [
    "import networkx as nx\n",
    "import random\n",
    "import timeit\n",
    "n=5\n",
    "min_size=100\n",
    "max_size=300\n",
    "m=20\n",
    "size_vector=sp.zeros(m)\n",
    "netx_pagerank=sp.zeros(m)\n",
    "netx_pagerank_numpy=sp.zeros(m)\n",
    "netx_pagerank_scipy=sp.zeros(m)\n",
    "moler_pagerank=sp.zeros(m)\n",
    "moler_pagerank_power=sp.zeros(m)\n",
    "\n",
    "for i in range(m):\n",
    "    G_size = random.randint(min_size,max_size)\n",
    "    p=random.uniform(0.1, 0.5)\n",
    "    G=nx.fast_gnp_random_graph(G_size, p, seed=None, directed=True)\n",
    "    size_vector[i] = G.number_of_edges()\n",
    "    A=nx.to_scipy_sparse_matrix(G)\n",
    "    netx_pagerank[i] = timeit.timeit(lambda: nx.pagerank(G, alpha=0.85, tol=1e-03), number=n)/n\n",
    "    netx_pagerank_numpy[i] = timeit.timeit(lambda: nx.pagerank_numpy(G, alpha=0.85), number=n)/n\n",
    "    netx_pagerank_scipy[i] = timeit.timeit(lambda: nx.pagerank_scipy(G, alpha=0.85, tol=1e-03), number=n)/n\n",
    "    moler_pagerank[i] = timeit.timeit(lambda: moler_pagerank_sparse(A, p=0.85), number=n)/n\n",
    "    moler_pagerank_power[i] = timeit.timeit(lambda: moler_pagerank_sparse_power(A, p=0.85, tol=1e-03), number=n)/n\n",
    "print (\"Done\")"
   ]
  },
  {
   "cell_type": "markdown",
   "metadata": {},
   "source": [
    "# Comparing Exact Methods\n",
    "The comparison might not be fare though, we solve a linear equation and `networkx.page_rank_numpy` calculates the eigen vector. "
   ]
  },
  {
   "cell_type": "code",
   "execution_count": null,
   "metadata": {},
   "outputs": [],
   "source": [
    "import matplotlib.pyplot as plt\n",
    "%matplotlib inline\n",
    "\n",
    "plt.figure(num=None, figsize=(7, 5), dpi=80, facecolor='w', edgecolor='k')\n",
    "\n",
    "argsort = size_vector.argsort()\n",
    "\n",
    "size_vector_sorted = size_vector[argsort]\n",
    "netx_pagerank_sorted = netx_pagerank[argsort]\n",
    "netx_pagerank_numpy_sorted = netx_pagerank_numpy[argsort]\n",
    "moler_pagerank_sorted = moler_pagerank[argsort]\n",
    "\n",
    "\n",
    "\n",
    "plt.plot(size_vector_sorted, netx_pagerank_sorted, 'o-',  ms=8, lw=2,alpha=0.7, color='red', label='networkx.PageRank')\n",
    "plt.plot(size_vector_sorted, netx_pagerank_numpy_sorted, 'v-', ms=8, lw=2,alpha=0.7, color='blue', label='networkx.PageRank_numpy')\n",
    "plt.plot(size_vector_sorted, moler_pagerank, '*-', ms=8, lw=2,alpha=0.7, color='magenta', label='Moler_PageRank')\n",
    "\n",
    "plt.xlabel('Number of the edges')\n",
    "plt.ylabel('Time (Seconds)')\n",
    "\n",
    "\n",
    "plt.tight_layout()\n",
    "plt.legend(loc=2)\n",
    "plt.savefig('pagerank_exact.eps')\n",
    "plt.show()\n"
   ]
  },
  {
   "cell_type": "markdown",
   "metadata": {},
   "source": [
    "# Comparing Approximation Methods (Power Methods)"
   ]
  },
  {
   "cell_type": "code",
   "execution_count": 4,
   "metadata": {},
   "outputs": [
    {
     "ename": "NameError",
     "evalue": "name 'size_vector' is not defined",
     "output_type": "error",
     "traceback": [
      "\u001b[0;31m---------------------------------------------------------------------------\u001b[0m",
      "\u001b[0;31mNameError\u001b[0m                                 Traceback (most recent call last)",
      "\u001b[0;32m<ipython-input-4-f368e898ac68>\u001b[0m in \u001b[0;36m<module>\u001b[0;34m()\u001b[0m\n\u001b[1;32m      4\u001b[0m \u001b[0mplt\u001b[0m\u001b[0;34m.\u001b[0m\u001b[0mfigure\u001b[0m\u001b[0;34m(\u001b[0m\u001b[0mnum\u001b[0m\u001b[0;34m=\u001b[0m\u001b[0;32mNone\u001b[0m\u001b[0;34m,\u001b[0m \u001b[0mfigsize\u001b[0m\u001b[0;34m=\u001b[0m\u001b[0;34m(\u001b[0m\u001b[0;36m7\u001b[0m\u001b[0;34m,\u001b[0m \u001b[0;36m5\u001b[0m\u001b[0;34m)\u001b[0m\u001b[0;34m,\u001b[0m \u001b[0mdpi\u001b[0m\u001b[0;34m=\u001b[0m\u001b[0;36m80\u001b[0m\u001b[0;34m,\u001b[0m \u001b[0mfacecolor\u001b[0m\u001b[0;34m=\u001b[0m\u001b[0;34m'w'\u001b[0m\u001b[0;34m,\u001b[0m \u001b[0medgecolor\u001b[0m\u001b[0;34m=\u001b[0m\u001b[0;34m'k'\u001b[0m\u001b[0;34m)\u001b[0m\u001b[0;34m\u001b[0m\u001b[0m\n\u001b[1;32m      5\u001b[0m \u001b[0;34m\u001b[0m\u001b[0m\n\u001b[0;32m----> 6\u001b[0;31m \u001b[0margsort\u001b[0m \u001b[0;34m=\u001b[0m \u001b[0msize_vector\u001b[0m\u001b[0;34m.\u001b[0m\u001b[0margsort\u001b[0m\u001b[0;34m(\u001b[0m\u001b[0;34m)\u001b[0m\u001b[0;34m\u001b[0m\u001b[0m\n\u001b[0m\u001b[1;32m      7\u001b[0m \u001b[0;34m\u001b[0m\u001b[0m\n\u001b[1;32m      8\u001b[0m \u001b[0msize_vector_sorted\u001b[0m \u001b[0;34m=\u001b[0m \u001b[0msize_vector\u001b[0m\u001b[0;34m[\u001b[0m\u001b[0margsort\u001b[0m\u001b[0;34m]\u001b[0m\u001b[0;34m\u001b[0m\u001b[0m\n",
      "\u001b[0;31mNameError\u001b[0m: name 'size_vector' is not defined"
     ]
    },
    {
     "data": {
      "text/plain": [
       "<Figure size 560x400 with 0 Axes>"
      ]
     },
     "metadata": {},
     "output_type": "display_data"
    }
   ],
   "source": [
    "import matplotlib.pyplot as plt\n",
    "%matplotlib inline\n",
    "\n",
    "plt.figure(num=None, figsize=(7, 5), dpi=80, facecolor='w', edgecolor='k')\n",
    "\n",
    "argsort = size_vector.argsort()\n",
    "\n",
    "size_vector_sorted = size_vector[argsort]\n",
    "netx_pagerank_scipy_sorted = netx_pagerank_scipy[argsort]\n",
    "moler_pagerank_power_sorted = moler_pagerank_power[argsort]\n",
    "\n",
    "\n",
    "\n",
    "plt.plot(size_vector_sorted, netx_pagerank_scipy_sorted, 'P-', ms=8, lw=2,alpha=0.7, color='black', label='networkx.PageRank_scipy')\n",
    "plt.plot(size_vector_sorted, moler_pagerank_power, '^-', ms=8, lw=2,alpha=0.7, color='green', label='Moler_PageRank_Power')\n",
    "\n",
    "plt.xlabel('Number of the edges')\n",
    "plt.ylabel('Time (Seconds)')\n",
    "\n",
    "\n",
    "plt.tight_layout()\n",
    "plt.legend(loc=2)\n",
    "plt.savefig('pagerank.eps')\n",
    "plt.show()\n"
   ]
  },
  {
   "cell_type": "code",
   "execution_count": null,
   "metadata": {},
   "outputs": [],
   "source": []
  }
 ],
 "metadata": {
  "kernelspec": {
   "display_name": "conda_mxnet_p36",
   "language": "python",
   "name": "conda_mxnet_p36"
  },
  "language_info": {
   "codemirror_mode": {
    "name": "ipython",
    "version": 3
   },
   "file_extension": ".py",
   "mimetype": "text/x-python",
   "name": "python",
   "nbconvert_exporter": "python",
   "pygments_lexer": "ipython3",
   "version": "3.6.5"
  }
 },
 "nbformat": 4,
 "nbformat_minor": 2
}
