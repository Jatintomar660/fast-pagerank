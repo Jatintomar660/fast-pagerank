{
 "cells": [
  {
   "cell_type": "code",
   "execution_count": 1,
   "metadata": {},
   "outputs": [],
   "source": [
    "import random\n",
    "import scipy as sp\n",
    "import timeit\n",
    "import sys\n",
    "import networkx as nx\n",
    "import scipy\n"
   ]
  },
  {
   "cell_type": "code",
   "execution_count": 2,
   "metadata": {},
   "outputs": [],
   "source": [
    "import numpy as np\n",
    "def wikipr(M, eps=1.0e-8, d=0.85):\n",
    "    N = M.shape[1]\n",
    "    v = np.random.rand(N, 1)\n",
    "    v = v / np.linalg.norm(v, 1)\n",
    "    last_v = np.ones((N, 1), dtype=np.float32) * 100\n",
    "    \n",
    "    while np.linalg.norm(v - last_v, 2) > eps:\n",
    "        last_v = v\n",
    "        v = d * np.matmul(M, v) + (1 - d) / N\n",
    "    return v    \n",
    "#wikipr(A.todense())"
   ]
  },
  {
   "cell_type": "code",
   "execution_count": 24,
   "metadata": {},
   "outputs": [],
   "source": [
    "def pagerank_scipy(G, M, alpha=0.85, personalization=None,\n",
    "                   max_iter=100, tol=1.0e-6, weight='weight',\n",
    "                   dangling=None):\n",
    "\n",
    "    import scipy.sparse\n",
    "\n",
    "    N = len(G)\n",
    "    if N == 0:\n",
    "        return {}\n",
    "\n",
    "    nodelist = G.nodes()\n",
    "    M = nx.to_scipy_sparse_matrix(G, nodelist=nodelist, weight=weight,\n",
    "                                  dtype=float)\n",
    "    #print (\"M=\", M)    \n",
    "    S = scipy.array(M.sum(axis=1)).flatten()\n",
    "    S[S != 0] = 1.0 / S[S != 0]\n",
    "    #print (\"S=\", S)\n",
    "    Q = scipy.sparse.spdiags(S.T, 0, *M.shape, format='csr')\n",
    "    #print (\"Q=\", Q)\n",
    "    M = Q * M\n",
    "    #print (\"M=\", M)\n",
    "    \n",
    "    # initial vector\n",
    "    x = scipy.repeat(1.0 / N, N)\n",
    "\n",
    "    # Personalization vector\n",
    "    if personalization is None:\n",
    "        p = scipy.repeat(1.0 / N, N)\n",
    "    else:\n",
    "        missing = set(nodelist) - set(personalization)\n",
    "        if missing:\n",
    "            raise NetworkXError('Personalization vector dictionary '\n",
    "                                'must have a value for every node. '\n",
    "                                'Missing nodes %s' % missing)\n",
    "        p = scipy.array([personalization[n] for n in nodelist],\n",
    "                        dtype=float)\n",
    "        p = p / p.sum()\n",
    "\n",
    "    # Dangling nodes\n",
    "    if dangling is None:\n",
    "        dangling_weights = p\n",
    "    else:\n",
    "        missing = set(nodelist) - set(dangling)\n",
    "        if missing:\n",
    "            raise NetworkXError('Dangling node dictionary '\n",
    "                                'must have a value for every node. '\n",
    "                                'Missing nodes %s' % missing)\n",
    "        # Convert the dangling dictionary into an array in nodelist order\n",
    "        dangling_weights = scipy.array([dangling[n] for n in nodelist],\n",
    "                                       dtype=float)\n",
    "        dangling_weights /= dangling_weights.sum()\n",
    "    is_dangling = scipy.where(S == 0)[0]\n",
    "\n",
    "    # power iteration: make up to max_iter iterations\n",
    "    for iteration in range(max_iter):\n",
    "        #print (\"x=\", x[:10])\n",
    "        \n",
    "        xlast = x\n",
    "        x = alpha * (x * M + sum(x[is_dangling]) * dangling_weights) + \\\n",
    "            (1 - alpha) * p\n",
    "        # check convergence, l1 norm\n",
    "#         err = scipy.absolute(x - xlast).sum()\n",
    "#         if err < N * tol:\n",
    "        err = sp.linalg.norm(x - xlast)\n",
    "        print (iteration, err)\n",
    "        if err < tol:\n",
    "            return dict(zip(nodelist, map(float, x)))\n",
    "    raise NetworkXError('pagerank_scipy: power iteration failed to converge '\n",
    "                        'in %d iterations.' % max_iter)"
   ]
  },
  {
   "cell_type": "code",
   "execution_count": 25,
   "metadata": {},
   "outputs": [],
   "source": [
    "from __future__ import division\n",
    "\n",
    "import scipy as sp\n",
    "import scipy.sparse as sprs\n",
    "import scipy.spatial\n",
    "import scipy.sparse.linalg\n",
    "\n",
    "def pagerank_power(G, p=0.85, max_iter=100,\n",
    "                   tol=1e-06, personalize=None, reverse=False):\n",
    "    \"\"\" Calculates pagerank given a csr graph\n",
    "\n",
    "    Inputs:\n",
    "    -------\n",
    "    G: a csr graph.\n",
    "    p: damping factor\n",
    "    max_iter: maximum number of iterations\n",
    "    personlize: if not None, should be an array with the size of the nodes\n",
    "                containing probability distributions.\n",
    "                It will be normalized automatically.\n",
    "    reverse: If true, returns the reversed-pagerank\n",
    "\n",
    "    Returns:\n",
    "    --------\n",
    "    Pagerank Scores for the nodes\n",
    "\n",
    "    \"\"\"\n",
    "    # In Moler's algorithm, $G_{ij}$ represents the existences of an edge\n",
    "    # from node $j$ to $i$, while we have assumed the opposite!\n",
    "    if not reverse:\n",
    "        G = G.T\n",
    "\n",
    "    n, _ = G.shape\n",
    "    c = sp.asarray(G.sum(axis=0)).reshape(-1)\n",
    "\n",
    "    k = c.nonzero()[0]\n",
    "\n",
    "    D = sprs.csr_matrix((1 / c[k], (k, k)), shape=(n, n))\n",
    "\n",
    "    if personalize is None:\n",
    "        personalize = sp.ones(n)\n",
    "    personalize = personalize.reshape(n, 1)\n",
    "    e = (personalize / personalize.sum()) * n\n",
    "\n",
    "    z = (((1 - p) * (c != 0) + (c == 0)) / n)[sp.newaxis, :]\n",
    "    G = p * G.dot(D)\n",
    "\n",
    "    x = e / n\n",
    "    oldx = sp.zeros((n, 1))\n",
    "\n",
    "    iteration = 0\n",
    "\n",
    "    for iteration in range(max_iter):\n",
    "        #print (\"x=\", x.flatten()[:10])\n",
    "        oldx = x\n",
    "        x = G.dot(x) + e.dot(z.dot(x))\n",
    "        err = sp.linalg.norm(x - oldx)\n",
    "        print (iteration, err)\n",
    "        if err < tol:\n",
    "            break\n",
    "    x = x / sum(x)\n",
    "\n",
    "    return x.reshape(-1)"
   ]
  },
  {
   "cell_type": "code",
   "execution_count": 19,
   "metadata": {},
   "outputs": [
    {
     "data": {
      "text/plain": [
       "matrix([[0., 0., 1., ..., 0., 0., 0.],\n",
       "        [0., 0., 1., ..., 0., 1., 0.],\n",
       "        [0., 0., 0., ..., 0., 1., 1.],\n",
       "        ...,\n",
       "        [0., 0., 0., ..., 0., 0., 1.],\n",
       "        [0., 0., 1., ..., 0., 0., 0.],\n",
       "        [1., 0., 0., ..., 0., 0., 0.]])"
      ]
     },
     "execution_count": 19,
     "metadata": {},
     "output_type": "execute_result"
    }
   ],
   "source": [
    "passed=True\n",
    "\n",
    "G_size = 100\n",
    "p=0.6\n",
    "G = nx.gnm_random_graph(1000, 500000, directed=True)\n",
    "# for e in G.edges():\n",
    "#      G[e[0]][e[1]]['weight']=sp.rand()\n",
    "#A=nx.to_scipy_sparse_matrix(G)\n",
    "\n",
    "nodelist = G.nodes()\n",
    "A = nx.to_scipy_sparse_matrix(G, nodelist=nodelist, weight='weight',\n",
    "                              dtype=float)\n",
    "\n",
    "A.todense()"
   ]
  },
  {
   "cell_type": "code",
   "execution_count": 26,
   "metadata": {},
   "outputs": [
    {
     "name": "stdout",
     "output_type": "stream",
     "text": [
      "0 0.0008138007236708838\n",
      "1 2.1738062879568022e-05\n",
      "2 5.635881352469846e-07\n",
      "0 0.0008138007236708838\n",
      "1 2.1738062879568022e-05\n",
      "2 5.635881352469846e-07\n",
      "0 0.0008138007236708838\n",
      "1 2.1738062879568022e-05\n",
      "2 5.635881352469846e-07\n",
      "0 0.0008138007236708838\n",
      "1 2.1738062879568022e-05\n",
      "2 5.635881352469846e-07\n",
      "0 0.0008138007236708838\n",
      "1 2.1738062879568022e-05\n",
      "2 5.635881352469846e-07\n"
     ]
    },
    {
     "data": {
      "text/plain": [
       "1.5154891875999965"
      ]
     },
     "execution_count": 26,
     "metadata": {},
     "output_type": "execute_result"
    }
   ],
   "source": [
    "timeit.timeit(\n",
    "        lambda: pagerank_scipy(\n",
    "            G, A,\n",
    "            alpha=0.85,\n",
    "            tol=1e-6, max_iter=1000),\n",
    "        number=5) / 5"
   ]
  },
  {
   "cell_type": "code",
   "execution_count": 23,
   "metadata": {},
   "outputs": [
    {
     "name": "stdout",
     "output_type": "stream",
     "text": [
      "0 0.0008138007236708885\n",
      "1 2.1738062879566033e-05\n",
      "2 5.635881352460045e-07\n",
      "0 0.0008138007236708885\n",
      "1 2.1738062879566033e-05\n",
      "2 5.635881352460045e-07\n",
      "0 0.0008138007236708885\n",
      "1 2.1738062879566033e-05\n",
      "2 5.635881352460045e-07\n",
      "0 0.0008138007236708885\n",
      "1 2.1738062879566033e-05\n",
      "2 5.635881352460045e-07\n",
      "0 0.0008138007236708885\n",
      "1 2.1738062879566033e-05\n",
      "2 5.635881352460045e-07\n"
     ]
    },
    {
     "data": {
      "text/plain": [
       "0.033681842200030586"
      ]
     },
     "execution_count": 23,
     "metadata": {},
     "output_type": "execute_result"
    }
   ],
   "source": [
    "timeit.timeit(\n",
    "        lambda: pagerank_power(\n",
    "            A, p=0.85, tol=1e-6, max_iter=1000), number=5) / 5"
   ]
  },
  {
   "cell_type": "code",
   "execution_count": null,
   "metadata": {},
   "outputs": [],
   "source": [
    "import cProfile\n",
    "cProfile.run('pagerank_scipy(G, alpha=0.85, tol=1e-6, max_iter=100)')"
   ]
  },
  {
   "cell_type": "code",
   "execution_count": null,
   "metadata": {},
   "outputs": [],
   "source": []
  }
 ],
 "metadata": {
  "kernelspec": {
   "display_name": "Python 3",
   "language": "python",
   "name": "python3"
  },
  "language_info": {
   "codemirror_mode": {
    "name": "ipython",
    "version": 3
   },
   "file_extension": ".py",
   "mimetype": "text/x-python",
   "name": "python",
   "nbconvert_exporter": "python",
   "pygments_lexer": "ipython3",
   "version": "3.7.3"
  }
 },
 "nbformat": 4,
 "nbformat_minor": 2
}
